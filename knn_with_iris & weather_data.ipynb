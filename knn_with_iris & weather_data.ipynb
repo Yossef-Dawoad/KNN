{
 "cells": [
  {
   "cell_type": "markdown",
   "metadata": {},
   "source": [
    "-----"
   ]
  },
  {
   "cell_type": "markdown",
   "metadata": {},
   "source": [
    "# implementing custom k-nearest neighbors algorithm"
   ]
  },
  {
   "cell_type": "markdown",
   "metadata": {},
   "source": [
    "*Note* :This project all built-in function in python3 \n",
    "##### first the pseudo-code ( general intuition about how the code work)"
   ]
  },
  {
   "cell_type": "markdown",
   "metadata": {},
   "source": [
    "```python\n",
    "\n",
    "\n",
    "# first inialize the KNN algorithem with the k-paramter -> number of neighbors to consider\n",
    "k = 5 # 5 neighbor points\n",
    "classifer = KNN(k)\n",
    "# fit the data (X-> features) and (y-> target output)\n",
    "classifer.fit(X, y)\n",
    "distances_list = [] # will be populated with the distance between the test_point and each other data_points\n",
    "\n",
    "def predict(x_test_point): # take test point(s)\n",
    "    for each train_point in the dataset: # (train_dataset)\n",
    "        # calculate distance between xtest_point and the train_point\n",
    "        distanace = calc_euclidian_distance(x_test_point, train_point)\n",
    "        distances_list.append(distanace)\n",
    "    # sort the distances in an accending order\n",
    "    sort(distances_list)  \n",
    "    # choose the first 5 points (because k=5) \n",
    "    neighbors = distances_list[:k]\n",
    "    # the most common points will be considered as our prediction\n",
    "    prediction = most_common_points(neighbors) \n",
    "    return prediction\n",
    "\n",
    "\n",
    "```"
   ]
  },
  {
   "cell_type": "code",
   "execution_count": 2,
   "metadata": {},
   "outputs": [],
   "source": [
    "\n",
    "             \n",
    "\n",
    "class KNN:\n",
    "    def __init__(self, k=3):\n",
    "        self.k = k\n",
    "\n",
    "    def fit(self, X, y, split_pct=None): \n",
    "        \"\"\"\n",
    "        Args :\n",
    "        ----\n",
    "        split_pct : (float) default None take values from 0 to 1\n",
    "         if None all data used for evaluating the distance ,otherwise\n",
    "         the data splited by precentage\n",
    "          \n",
    "        \"\"\"\n",
    "        if split_pct is None:\n",
    "            self.x_train = X\n",
    "            self.y_train = y\n",
    "        else:    \n",
    "            self.x_train, self.y_train, self.x_test, self.y_test = \\\n",
    "                        self.train_test_split(X, y, test_size=split_pct)\n",
    "            return self.x_test, self.y_test\n",
    "\n",
    "\n",
    "    def predict(self, X, distance_method=None):\n",
    "        \"\"\"this function compute the distance between given value \"x\" and each data point in the dataset\n",
    "\n",
    "            choose shortest k values the most_common label from those k values  is choosen as label for the value \"x\"\n",
    "            \n",
    "            Args:\n",
    "            ----\n",
    "            X : list of test data points\n",
    "            distance_method : 'euclidean_distance' or 'manhtin_distance'\n",
    "\n",
    "            \"\"\"\n",
    "        predicted_labels = [self._predict(x, distance_method) for x in X]\n",
    "        return predicted_labels\n",
    "\n",
    "\n",
    "    def _predict(self, x, dist_method=None):\n",
    "\n",
    "        # compute the distance\n",
    "        dist_method = self.euclidean_distance if dist_method is None else dist_method\n",
    "\n",
    "        # calculate distance between the \"point x\" and each point in teh dataset\n",
    "        distances = [(i, dist_method(x, data_point)) for i, data_point in enumerate(self.x_train)]\n",
    "        # sort acorroding to the distance\n",
    "        distances.sort(key=lambda x:x[1])\n",
    "        \n",
    "        # get the indices of the nearest nighbors\n",
    "        k_neighbors_indices = [i for i, _ in distances]\n",
    "        k_neighbors_indices = k_neighbors_indices[:self.k]\n",
    "\n",
    "        k_neighbors_labels = [self.y_train[idx] for idx in k_neighbors_indices]\n",
    "        most_common_neighbor = self.most_common(k_neighbors_labels)\n",
    "        return most_common_neighbor[0][0]\n",
    "\n",
    "\n",
    "    def train_test_split(self, X, y, test_size):\n",
    "        pct = len(X) - (len(X)* test_size)\n",
    "        pct = int(pct)\n",
    "        trainX, testX = X[:pct] ,X[pct:] \n",
    "        trainy, testy = y[:pct] ,y[pct:]\n",
    "        return (trainX, trainy, testX, testy)\n",
    "\n",
    "\n",
    "\n",
    "    def euclidean_distance(self, x1, x2):\n",
    "        sum_res = 0\n",
    "        for p1, p2 in zip(x1, x2):\n",
    "            sum_res += (p1 - p2)**2\n",
    "        res = sum_res**(1/2) # square root\n",
    "        return res\n",
    "\n",
    "\n",
    "    def manhatin_distance(self, x1, x2):\n",
    "        res = 0\n",
    "        for p1, p2 in zip(x1, x2):\n",
    "            res += self.abs(p1 - p2)\n",
    "        return res\n",
    "    \n",
    "    @staticmethod\n",
    "    def most_common(input_list):\n",
    "        itms_count = dict()\n",
    "        for itm in input_list:\n",
    "            if itm not in itms_count.keys():\n",
    "                itms_count[itm] = 1\n",
    "            itms_count[itm] += 1\n",
    "        most_common_itm = sorted(itms_count.items(), key=lambda x:x[1],reverse=True)\n",
    "        return most_common_itm\n",
    "\n",
    "    \n",
    "    @staticmethod\n",
    "    def abs(value):\n",
    "        if value < 0:\n",
    "            value *= -1\n",
    "        return value \n",
    "\n",
    "\n"
   ]
  },
  {
   "cell_type": "markdown",
   "metadata": {},
   "source": [
    "### import necessary libaries"
   ]
  },
  {
   "cell_type": "code",
   "execution_count": 3,
   "metadata": {},
   "outputs": [],
   "source": [
    "\n",
    "import sklearn.datasets as dataset\n",
    "import matplotlib.pyplot as plt"
   ]
  },
  {
   "cell_type": "markdown",
   "metadata": {},
   "source": [
    "### loading the dataset"
   ]
  },
  {
   "cell_type": "code",
   "execution_count": 4,
   "metadata": {},
   "outputs": [],
   "source": [
    "iris = dataset.load_iris()\n",
    "X, y = iris.data, iris.target"
   ]
  },
  {
   "cell_type": "code",
   "execution_count": 5,
   "metadata": {},
   "outputs": [
    {
     "name": "stdout",
     "output_type": "stream",
     "text": [
      "['setosa' 'versicolor' 'virginica']\n",
      "[sepalLenght, sepalWidth, patalLenght]\n"
     ]
    }
   ],
   "source": [
    "features_names = {0:'satosa', 1:'versicolor', 2:'virginica'}\n",
    "print(iris.target_names)\n",
    "print(\"[sepalLenght, sepalWidth, patalLenght]\") # features names / sample paramters"
   ]
  },
  {
   "cell_type": "markdown",
   "metadata": {},
   "source": [
    "### display and ploting some info about the data"
   ]
  },
  {
   "cell_type": "code",
   "execution_count": 6,
   "metadata": {},
   "outputs": [
    {
     "data": {
      "image/png": "[encoded data removed]",
      "text/plain": [
       "<Figure size 432x288 with 1 Axes>"
      ]
     },
     "metadata": {
      "needs_background": "light"
     },
     "output_type": "display_data"
    }
   ],
   "source": [
    "plt.scatter(X[:, 2], X[:, 3], c=y)\n",
    "\n",
    "plt.xlabel(\"sepalWidth\")\n",
    "plt.ylabel(\"patalLenght\")\n",
    "plt.show()"
   ]
  },
  {
   "cell_type": "code",
   "execution_count": 7,
   "metadata": {},
   "outputs": [
    {
     "name": "stdout",
     "output_type": "stream",
     "text": [
      "examples of dataset features\n",
      "\n",
      "[[5.1 3.5 1.4 0.2]\n",
      " [4.9 3.  1.4 0.2]\n",
      " [4.7 3.2 1.3 0.2]\n",
      " [4.6 3.1 1.5 0.2]\n",
      " [5.  3.6 1.4 0.2]]\n",
      "\n",
      "\n",
      "examples of dataset labels/outputs\n",
      "[0 0 0 0 0]\n"
     ]
    }
   ],
   "source": [
    "print(\"examples of dataset features\\n\")\n",
    "print(X[:5])\n",
    "print(\"\\n\")\n",
    "print(\"examples of dataset labels/outputs\")\n",
    "print(y[:5])"
   ]
  },
  {
   "cell_type": "markdown",
   "metadata": {},
   "source": [
    "## initilize the k-nearest neighbors"
   ]
  },
  {
   "cell_type": "code",
   "execution_count": 8,
   "metadata": {},
   "outputs": [],
   "source": [
    "clf = KNN(k=5)"
   ]
  },
  {
   "cell_type": "markdown",
   "metadata": {},
   "source": [
    "### fit the data to the classifier and perform train test split "
   ]
  },
  {
   "cell_type": "code",
   "execution_count": 9,
   "metadata": {},
   "outputs": [
    {
     "name": "stdout",
     "output_type": "stream",
     "text": [
      "the lenght of the dataset is : 150\n",
      "the lenght of the train dataset after spliting by 10th precent for test_set is : 135\n"
     ]
    }
   ],
   "source": [
    "print(f\"the lenght of the dataset is : {len(X)}\")\n",
    "x_test, y_test = clf.fit(X, y, 0.1)\n",
    "\n",
    "print(f\"the lenght of the train dataset after spliting by 10th precent for test_set is : {len(clf.x_train)}\")"
   ]
  },
  {
   "cell_type": "markdown",
   "metadata": {},
   "source": [
    "## perform prediction and evaluation"
   ]
  },
  {
   "cell_type": "code",
   "execution_count": 10,
   "metadata": {},
   "outputs": [],
   "source": [
    "# predictions = clf.predict(x_test)\n",
    "predictions = clf.predict(x_test, clf.manhatin_distance)"
   ]
  },
  {
   "cell_type": "code",
   "execution_count": 11,
   "metadata": {},
   "outputs": [
    {
     "name": "stdout",
     "output_type": "stream",
     "text": [
      "[2]\n"
     ]
    }
   ],
   "source": [
    "custom_predictions = clf.predict([[1,4,5,6]])\n",
    "print(custom_predictions)"
   ]
  },
  {
   "cell_type": "code",
   "execution_count": 12,
   "metadata": {},
   "outputs": [
    {
     "name": "stdout",
     "output_type": "stream",
     "text": [
      "frist 5  predictions from the classifer: \n",
      " [2, 2, 2, 1, 2]\n",
      "\n",
      "frist 5  true labels : \n",
      " [2 2 2 2 2]\n"
     ]
    }
   ],
   "source": [
    "print(f\"frist 5  predictions from the classifer: \\n {predictions[:5]}\")\n",
    "print(f\"\\nfrist 5  true labels : \\n {y_test[:5]}\")"
   ]
  },
  {
   "cell_type": "code",
   "execution_count": 13,
   "metadata": {},
   "outputs": [
    {
     "name": "stdout",
     "output_type": "stream",
     "text": [
      "virginica\n",
      "virginica\n",
      "virginica\n",
      "versicolor\n",
      "virginica\n",
      "virginica\n",
      "virginica\n",
      "virginica\n"
     ]
    }
   ],
   "source": [
    "for pred_idx in predictions[:8]:\n",
    "    rose_name = iris.target_names[pred_idx]\n",
    "    print(rose_name)"
   ]
  },
  {
   "cell_type": "markdown",
   "metadata": {},
   "source": [
    "## calculating the model accuracy on the test_data and\n",
    "### compare prediction vs true_lables"
   ]
  },
  {
   "cell_type": "code",
   "execution_count": 14,
   "metadata": {},
   "outputs": [],
   "source": [
    "def calc_acc(predictions, true_labels):\n",
    "    acc_score = 0\n",
    "    for i in range(len(predictions)):\n",
    "        if predictions[i] == true_labels[i]:\n",
    "            acc_score +=1 \n",
    "    return acc_score / len(true_labels) "
   ]
  },
  {
   "cell_type": "code",
   "execution_count": 15,
   "metadata": {},
   "outputs": [
    {
     "data": {
      "text/plain": [
       "0.9333333333333333"
      ]
     },
     "execution_count": 15,
     "metadata": {},
     "output_type": "execute_result"
    }
   ],
   "source": [
    "calc_acc(predictions, y_test)"
   ]
  },
  {
   "cell_type": "markdown",
   "metadata": {},
   "source": [
    "----------------------"
   ]
  },
  {
   "cell_type": "markdown",
   "metadata": {},
   "source": [
    "# importing external data as csv file (comma seprated values)"
   ]
  },
  {
   "cell_type": "markdown",
   "metadata": {},
   "source": [
    "## Simple Data preprocessing with pandas"
   ]
  },
  {
   "cell_type": "code",
   "execution_count": 16,
   "metadata": {},
   "outputs": [
    {
     "data": {
      "text/html": [
       "<div>\n",
       "<style scoped>\n",
       "    .dataframe tbody tr th:only-of-type {\n",
       "        vertical-align: middle;\n",
       "    }\n",
       "\n",
       "    .dataframe tbody tr th {\n",
       "        vertical-align: top;\n",
       "    }\n",
       "\n",
       "    .dataframe thead th {\n",
       "        text-align: right;\n",
       "    }\n",
       "</style>\n",
       "<table border=\"1\" class=\"dataframe\">\n",
       "  <thead>\n",
       "    <tr style=\"text-align: right;\">\n",
       "      <th></th>\n",
       "      <th>MinTemp</th>\n",
       "      <th>MaxTemp</th>\n",
       "      <th>Rainfall</th>\n",
       "      <th>Evaporation</th>\n",
       "      <th>Sunshine</th>\n",
       "      <th>WindGustDir</th>\n",
       "      <th>WindGustSpeed</th>\n",
       "      <th>WindDir9am</th>\n",
       "      <th>WindDir3pm</th>\n",
       "      <th>WindSpeed9am</th>\n",
       "      <th>...</th>\n",
       "      <th>Humidity3pm</th>\n",
       "      <th>Pressure9am</th>\n",
       "      <th>Pressure3pm</th>\n",
       "      <th>Cloud9am</th>\n",
       "      <th>Cloud3pm</th>\n",
       "      <th>Temp9am</th>\n",
       "      <th>Temp3pm</th>\n",
       "      <th>RainToday</th>\n",
       "      <th>RISK_MM</th>\n",
       "      <th>RainTomorrow</th>\n",
       "    </tr>\n",
       "  </thead>\n",
       "  <tbody>\n",
       "    <tr>\n",
       "      <th>0</th>\n",
       "      <td>8.0</td>\n",
       "      <td>24.3</td>\n",
       "      <td>0.0</td>\n",
       "      <td>3.4</td>\n",
       "      <td>6.3</td>\n",
       "      <td>NW</td>\n",
       "      <td>30.0</td>\n",
       "      <td>SW</td>\n",
       "      <td>NW</td>\n",
       "      <td>6.0</td>\n",
       "      <td>...</td>\n",
       "      <td>29</td>\n",
       "      <td>1019.7</td>\n",
       "      <td>1015.0</td>\n",
       "      <td>7</td>\n",
       "      <td>7</td>\n",
       "      <td>14.4</td>\n",
       "      <td>23.6</td>\n",
       "      <td>No</td>\n",
       "      <td>3.6</td>\n",
       "      <td>Yes</td>\n",
       "    </tr>\n",
       "    <tr>\n",
       "      <th>1</th>\n",
       "      <td>14.0</td>\n",
       "      <td>26.9</td>\n",
       "      <td>3.6</td>\n",
       "      <td>4.4</td>\n",
       "      <td>9.7</td>\n",
       "      <td>ENE</td>\n",
       "      <td>39.0</td>\n",
       "      <td>E</td>\n",
       "      <td>W</td>\n",
       "      <td>4.0</td>\n",
       "      <td>...</td>\n",
       "      <td>36</td>\n",
       "      <td>1012.4</td>\n",
       "      <td>1008.4</td>\n",
       "      <td>5</td>\n",
       "      <td>3</td>\n",
       "      <td>17.5</td>\n",
       "      <td>25.7</td>\n",
       "      <td>Yes</td>\n",
       "      <td>3.6</td>\n",
       "      <td>Yes</td>\n",
       "    </tr>\n",
       "    <tr>\n",
       "      <th>2</th>\n",
       "      <td>13.7</td>\n",
       "      <td>23.4</td>\n",
       "      <td>3.6</td>\n",
       "      <td>5.8</td>\n",
       "      <td>3.3</td>\n",
       "      <td>NW</td>\n",
       "      <td>85.0</td>\n",
       "      <td>N</td>\n",
       "      <td>NNE</td>\n",
       "      <td>6.0</td>\n",
       "      <td>...</td>\n",
       "      <td>69</td>\n",
       "      <td>1009.5</td>\n",
       "      <td>1007.2</td>\n",
       "      <td>8</td>\n",
       "      <td>7</td>\n",
       "      <td>15.4</td>\n",
       "      <td>20.2</td>\n",
       "      <td>Yes</td>\n",
       "      <td>39.8</td>\n",
       "      <td>Yes</td>\n",
       "    </tr>\n",
       "    <tr>\n",
       "      <th>3</th>\n",
       "      <td>13.3</td>\n",
       "      <td>15.5</td>\n",
       "      <td>39.8</td>\n",
       "      <td>7.2</td>\n",
       "      <td>9.1</td>\n",
       "      <td>NW</td>\n",
       "      <td>54.0</td>\n",
       "      <td>WNW</td>\n",
       "      <td>W</td>\n",
       "      <td>30.0</td>\n",
       "      <td>...</td>\n",
       "      <td>56</td>\n",
       "      <td>1005.5</td>\n",
       "      <td>1007.0</td>\n",
       "      <td>2</td>\n",
       "      <td>7</td>\n",
       "      <td>13.5</td>\n",
       "      <td>14.1</td>\n",
       "      <td>Yes</td>\n",
       "      <td>2.8</td>\n",
       "      <td>Yes</td>\n",
       "    </tr>\n",
       "    <tr>\n",
       "      <th>4</th>\n",
       "      <td>7.6</td>\n",
       "      <td>16.1</td>\n",
       "      <td>2.8</td>\n",
       "      <td>5.6</td>\n",
       "      <td>10.6</td>\n",
       "      <td>SSE</td>\n",
       "      <td>50.0</td>\n",
       "      <td>SSE</td>\n",
       "      <td>ESE</td>\n",
       "      <td>20.0</td>\n",
       "      <td>...</td>\n",
       "      <td>49</td>\n",
       "      <td>1018.3</td>\n",
       "      <td>1018.5</td>\n",
       "      <td>7</td>\n",
       "      <td>7</td>\n",
       "      <td>11.1</td>\n",
       "      <td>15.4</td>\n",
       "      <td>Yes</td>\n",
       "      <td>0.0</td>\n",
       "      <td>No</td>\n",
       "    </tr>\n",
       "  </tbody>\n",
       "</table>\n",
       "<p>5 rows × 22 columns</p>\n",
       "</div>"
      ],
      "text/plain": [
       "   MinTemp  MaxTemp  Rainfall  Evaporation  Sunshine WindGustDir  \\\n",
       "0      8.0     24.3       0.0          3.4       6.3          NW   \n",
       "1     14.0     26.9       3.6          4.4       9.7         ENE   \n",
       "2     13.7     23.4       3.6          5.8       3.3          NW   \n",
       "3     13.3     15.5      39.8          7.2       9.1          NW   \n",
       "4      7.6     16.1       2.8          5.6      10.6         SSE   \n",
       "\n",
       "   WindGustSpeed WindDir9am WindDir3pm  WindSpeed9am  ...  Humidity3pm  \\\n",
       "0           30.0         SW         NW           6.0  ...           29   \n",
       "1           39.0          E          W           4.0  ...           36   \n",
       "2           85.0          N        NNE           6.0  ...           69   \n",
       "3           54.0        WNW          W          30.0  ...           56   \n",
       "4           50.0        SSE        ESE          20.0  ...           49   \n",
       "\n",
       "   Pressure9am  Pressure3pm  Cloud9am  Cloud3pm  Temp9am  Temp3pm  RainToday  \\\n",
       "0       1019.7       1015.0         7         7     14.4     23.6         No   \n",
       "1       1012.4       1008.4         5         3     17.5     25.7        Yes   \n",
       "2       1009.5       1007.2         8         7     15.4     20.2        Yes   \n",
       "3       1005.5       1007.0         2         7     13.5     14.1        Yes   \n",
       "4       1018.3       1018.5         7         7     11.1     15.4        Yes   \n",
       "\n",
       "   RISK_MM RainTomorrow  \n",
       "0      3.6          Yes  \n",
       "1      3.6          Yes  \n",
       "2     39.8          Yes  \n",
       "3      2.8          Yes  \n",
       "4      0.0           No  \n",
       "\n",
       "[5 rows x 22 columns]"
      ]
     },
     "execution_count": 16,
     "metadata": {},
     "output_type": "execute_result"
    }
   ],
   "source": [
    "import pandas as pd \n",
    "from sklearn.neighbors import KNeighborsClassifier\n",
    "\n",
    "df = pd.read_csv(\"./dataset/weather.csv\")\n",
    "df.head()"
   ]
  },
  {
   "cell_type": "code",
   "execution_count": 17,
   "metadata": {},
   "outputs": [
    {
     "name": "stdout",
     "output_type": "stream",
     "text": [
      "number of rows/records: 366\n",
      "number of columns/features: 22\n"
     ]
    }
   ],
   "source": [
    "\n",
    "print(f\"number of rows/records: {len(df)}\")\n",
    "print(f\"number of columns/features: {len(df.columns)}\")"
   ]
  },
  {
   "cell_type": "code",
   "execution_count": 18,
   "metadata": {},
   "outputs": [
    {
     "name": "stdout",
     "output_type": "stream",
     "text": [
      "is there any null values in dataframe: True\n",
      "number of NAN values:  47\n",
      "number of NAN values after droping the Nan records:  0\n"
     ]
    }
   ],
   "source": [
    "print(f\"is there any null values in dataframe: {df.isnull().values.any()}\")\n",
    "print(f\"number of NAN values:  {df.isnull().sum().sum()}\")\n",
    "df = df.dropna()\n",
    "print(f\"number of NAN values after droping the Nan records:  {df.isnull().sum().sum()}\")"
   ]
  },
  {
   "cell_type": "code",
   "execution_count": 19,
   "metadata": {},
   "outputs": [],
   "source": [
    "# shuffle the DataFrame rows\n",
    "df = df.sample(frac = 1)"
   ]
  },
  {
   "cell_type": "markdown",
   "metadata": {},
   "source": [
    "### Choosing Selected columns as features "
   ]
  },
  {
   "cell_type": "code",
   "execution_count": 20,
   "metadata": {},
   "outputs": [],
   "source": [
    "interest_cols = ['MaxTemp', 'Rainfall', 'Sunshine', 'WindGustSpeed', 'WindSpeed9am']\n",
    "\n",
    "datafeatures = df[interest_cols]\n",
    "targets = df['RainTomorrow']"
   ]
  },
  {
   "cell_type": "code",
   "execution_count": 21,
   "metadata": {},
   "outputs": [
    {
     "data": {
      "text/html": [
       "<div>\n",
       "<style scoped>\n",
       "    .dataframe tbody tr th:only-of-type {\n",
       "        vertical-align: middle;\n",
       "    }\n",
       "\n",
       "    .dataframe tbody tr th {\n",
       "        vertical-align: top;\n",
       "    }\n",
       "\n",
       "    .dataframe thead th {\n",
       "        text-align: right;\n",
       "    }\n",
       "</style>\n",
       "<table border=\"1\" class=\"dataframe\">\n",
       "  <thead>\n",
       "    <tr style=\"text-align: right;\">\n",
       "      <th></th>\n",
       "      <th>MaxTemp</th>\n",
       "      <th>Rainfall</th>\n",
       "      <th>Sunshine</th>\n",
       "      <th>WindGustSpeed</th>\n",
       "      <th>WindSpeed9am</th>\n",
       "    </tr>\n",
       "  </thead>\n",
       "  <tbody>\n",
       "    <tr>\n",
       "      <th>187</th>\n",
       "      <td>16.8</td>\n",
       "      <td>0.0</td>\n",
       "      <td>3.0</td>\n",
       "      <td>41.0</td>\n",
       "      <td>7.0</td>\n",
       "    </tr>\n",
       "    <tr>\n",
       "      <th>218</th>\n",
       "      <td>16.7</td>\n",
       "      <td>0.0</td>\n",
       "      <td>9.0</td>\n",
       "      <td>22.0</td>\n",
       "      <td>11.0</td>\n",
       "    </tr>\n",
       "    <tr>\n",
       "      <th>186</th>\n",
       "      <td>19.0</td>\n",
       "      <td>0.0</td>\n",
       "      <td>8.3</td>\n",
       "      <td>39.0</td>\n",
       "      <td>2.0</td>\n",
       "    </tr>\n",
       "    <tr>\n",
       "      <th>74</th>\n",
       "      <td>22.8</td>\n",
       "      <td>0.0</td>\n",
       "      <td>6.0</td>\n",
       "      <td>50.0</td>\n",
       "      <td>13.0</td>\n",
       "    </tr>\n",
       "    <tr>\n",
       "      <th>27</th>\n",
       "      <td>28.0</td>\n",
       "      <td>0.0</td>\n",
       "      <td>10.7</td>\n",
       "      <td>52.0</td>\n",
       "      <td>6.0</td>\n",
       "    </tr>\n",
       "  </tbody>\n",
       "</table>\n",
       "</div>"
      ],
      "text/plain": [
       "     MaxTemp  Rainfall  Sunshine  WindGustSpeed  WindSpeed9am\n",
       "187     16.8       0.0       3.0           41.0           7.0\n",
       "218     16.7       0.0       9.0           22.0          11.0\n",
       "186     19.0       0.0       8.3           39.0           2.0\n",
       "74      22.8       0.0       6.0           50.0          13.0\n",
       "27      28.0       0.0      10.7           52.0           6.0"
      ]
     },
     "execution_count": 21,
     "metadata": {},
     "output_type": "execute_result"
    }
   ],
   "source": [
    "datafeatures.head()"
   ]
  },
  {
   "cell_type": "code",
   "execution_count": 22,
   "metadata": {},
   "outputs": [
    {
     "data": {
      "text/plain": [
       "187    No\n",
       "218    No\n",
       "186    No\n",
       "74     No\n",
       "27     No\n",
       "Name: RainTomorrow, dtype: object"
      ]
     },
     "execution_count": 22,
     "metadata": {},
     "output_type": "execute_result"
    }
   ],
   "source": [
    "targets.head() # rain tomorow"
   ]
  },
  {
   "cell_type": "code",
   "execution_count": 23,
   "metadata": {},
   "outputs": [
    {
     "data": {
      "text/plain": [
       "[[16.8, 0.0, 3.0, 41.0, 7.0],\n",
       " [16.7, 0.0, 9.0, 22.0, 11.0],\n",
       " [19.0, 0.0, 8.3, 39.0, 2.0],\n",
       " [22.8, 0.0, 6.0, 50.0, 13.0],\n",
       " [28.0, 0.0, 10.7, 52.0, 6.0]]"
      ]
     },
     "execution_count": 23,
     "metadata": {},
     "output_type": "execute_result"
    }
   ],
   "source": [
    "targets_values = targets.values.tolist()\n",
    "features_values = datafeatures.values.tolist()\n",
    "features_values[:5]"
   ]
  },
  {
   "cell_type": "markdown",
   "metadata": {},
   "source": [
    "## initilaizing the classifer (custom KNN) "
   ]
  },
  {
   "cell_type": "code",
   "execution_count": 24,
   "metadata": {},
   "outputs": [],
   "source": [
    "weatherClf = KNN(k=5)\n",
    "x_test, y_test = weatherClf.fit(features_values, targets_values, split_pct=0.3)"
   ]
  },
  {
   "cell_type": "code",
   "execution_count": 25,
   "metadata": {},
   "outputs": [],
   "source": [
    "tomorow_raining_predictions = weatherClf.predict(x_test)"
   ]
  },
  {
   "cell_type": "code",
   "execution_count": 26,
   "metadata": {},
   "outputs": [
    {
     "data": {
      "text/plain": [
       "0.8282828282828283"
      ]
     },
     "execution_count": 26,
     "metadata": {},
     "output_type": "execute_result"
    }
   ],
   "source": [
    "calc_acc(tomorow_raining_predictions, true_labels=y_test)"
   ]
  },
  {
   "cell_type": "markdown",
   "metadata": {},
   "source": [
    "# testing sklearn knn method (provided by the sklearn library)"
   ]
  },
  {
   "cell_type": "code",
   "execution_count": 27,
   "metadata": {},
   "outputs": [],
   "source": [
    "x_train, y_train, x_test, y_test =  weatherClf.train_test_split(features_values, targets_values, 0.3)"
   ]
  },
  {
   "cell_type": "code",
   "execution_count": 28,
   "metadata": {},
   "outputs": [
    {
     "data": {
      "text/plain": [
       "KNeighborsClassifier()"
      ]
     },
     "execution_count": 28,
     "metadata": {},
     "output_type": "execute_result"
    }
   ],
   "source": [
    "knneighbor = KNeighborsClassifier(5)\n",
    "knneighbor.fit(x_train, y_train)"
   ]
  },
  {
   "cell_type": "code",
   "execution_count": 29,
   "metadata": {},
   "outputs": [],
   "source": [
    "raining_predictions = knneighbor.predict(x_test)"
   ]
  },
  {
   "cell_type": "code",
   "execution_count": 30,
   "metadata": {},
   "outputs": [
    {
     "data": {
      "text/plain": [
       "0.8282828282828283"
      ]
     },
     "execution_count": 30,
     "metadata": {},
     "output_type": "execute_result"
    }
   ],
   "source": [
    "calc_acc(raining_predictions, true_labels=y_test)"
   ]
  },
  {
   "cell_type": "code",
   "execution_count": 31,
   "metadata": {},
   "outputs": [],
   "source": [
    "def most_common(input_list):\n",
    "    itms_count = dict()\n",
    "    for itm in input_list:\n",
    "        if itm not in itms_count.keys():\n",
    "            itms_count[itm] = 1\n",
    "        itms_count[itm] += 1\n",
    "    most_common_itm = sorted(itms_count.items(), key=lambda x:x[1],reverse=True)\n",
    "    return most_common_itm[0][0]"
   ]
  },
  {
   "cell_type": "code",
   "execution_count": 32,
   "metadata": {},
   "outputs": [
    {
     "data": {
      "text/plain": [
       "9"
      ]
     },
     "execution_count": 32,
     "metadata": {},
     "output_type": "execute_result"
    }
   ],
   "source": [
    "j=[1,5,1,5,1,7,7,9,8,5,4,5,1,7,2,9,9,9,9,9,9]\n",
    "most_common(j)"
   ]
  },
  {
   "cell_type": "code",
   "execution_count": 33,
   "metadata": {},
   "outputs": [],
   "source": [
    "# MaxTemp\tRainfall\tSunshine\tWindGustSpeed\tWindSpeed9am\n",
    "test_record = [[15.4,\t0.8,\t0.0,\t20.0,\t4.0]]\n",
    "# test_record = [[35.7,\t0.0,\t6.9,\t50.0,\t4.0]]"
   ]
  },
  {
   "cell_type": "code",
   "execution_count": 34,
   "metadata": {},
   "outputs": [
    {
     "name": "stdout",
     "output_type": "stream",
     "text": [
      "['Yes']\n"
     ]
    }
   ],
   "source": [
    "predictions = weatherClf.predict(test_record)\n",
    "predictions = knneighbor.predict(test_record)\n",
    "print(predictions)"
   ]
  },
  {
   "cell_type": "markdown",
   "metadata": {},
   "source": [
    "## loading more classifiers to test them on the dataset "
   ]
  },
  {
   "cell_type": "code",
   "execution_count": 35,
   "metadata": {},
   "outputs": [],
   "source": [
    "from sklearn.model_selection import train_test_split\n",
    "\n",
    "from sklearn.tree import DecisionTreeClassifier\n",
    "from sklearn.svm import SVC\n",
    "from sklearn.neural_network import MLPClassifier\n",
    "from sklearn.naive_bayes import GaussianNB\n",
    "\n",
    "classifiers = [DecisionTreeClassifier, \n",
    "                SVC, \n",
    "                KNeighborsClassifier,\n",
    "                MLPClassifier, \n",
    "                GaussianNB]"
   ]
  },
  {
   "cell_type": "markdown",
   "metadata": {},
   "source": [
    "## building auto model selection for achiving the best accuracy"
   ]
  },
  {
   "cell_type": "markdown",
   "metadata": {},
   "source": [
    "### Automate Model selection and performing hyper paramter optimization "
   ]
  },
  {
   "cell_type": "code",
   "execution_count": 36,
   "metadata": {},
   "outputs": [],
   "source": [
    "def choose_best_model(list_models, X, y):\n",
    "    accuracies = dict()\n",
    "    X_train, X_test, y_train, y_test = train_test_split(X, y, test_size=0.3)\n",
    "    for model in list_models:\n",
    "        clf = model() # initalize the model\n",
    "        clf.fit(X_train, y_train) # fit the data to the model\n",
    "        predictions = clf.predict(X_test) # prediction on the test data\n",
    "        m_acc = calc_acc(predictions, true_labels=y_test)\n",
    "\n",
    "        model_name = model.__name__\n",
    "        accuracies[model_name] = m_acc \n",
    "\n",
    "    # sort the accuracies\n",
    "    accuracies = sorted(accuracies.items(), key= lambda t: t[1], reverse=True)\n",
    "    print(accuracies)\n",
    "\n",
    "    return accuracies[0]\n"
   ]
  },
  {
   "cell_type": "code",
   "execution_count": 39,
   "metadata": {},
   "outputs": [
    {
     "name": "stdout",
     "output_type": "stream",
     "text": [
      "[('KNeighborsClassifier', 0.8484848484848485), ('SVC', 0.8383838383838383), ('GaussianNB', 0.8181818181818182), ('DecisionTreeClassifier', 0.797979797979798), ('MLPClassifier', 0.797979797979798)]\n"
     ]
    }
   ],
   "source": [
    "best_model = choose_best_model(classifiers, features_values, targets_values)"
   ]
  },
  {
   "cell_type": "code",
   "execution_count": 40,
   "metadata": {},
   "outputs": [
    {
     "name": "stdout",
     "output_type": "stream",
     "text": [
      "the best model was KNeighborsClassifier with accuarcy of 0.8484848484848485\n"
     ]
    }
   ],
   "source": [
    "print(f\"the best model was {best_model[0]} with accuarcy of {best_model[1]}\")"
   ]
  },
  {
   "cell_type": "code",
   "execution_count": null,
   "metadata": {},
   "outputs": [],
   "source": []
  }
 ],
 "metadata": {
  "kernelspec": {
   "display_name": "Python 3.10.4 64-bit",
   "language": "python",
   "name": "python3"
  },
  "language_info": {
   "codemirror_mode": {
    "name": "ipython",
    "version": 3
   },
   "file_extension": ".py",
   "mimetype": "text/x-python",
   "name": "python",
   "nbconvert_exporter": "python",
   "pygments_lexer": "ipython3",
   "version": "3.10.4"
  },
  "orig_nbformat": 4,
  "vscode": {
   "interpreter": {
    "hash": "916dbcbb3f70747c44a77c7bcd40155683ae19c65e1c03b4aa3499c5328201f1"
   }
  }
 },
 "nbformat": 4,
 "nbformat_minor": 2
}
